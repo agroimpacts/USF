{
  "nbformat": 4,
  "nbformat_minor": 0,
  "metadata": {
    "colab": {
      "name": "Web-scraping in R",
      "provenance": [],
      "authorship_tag": "ABX9TyMx62Q/uNJoOrjCSQaWkVGb",
      "include_colab_link": true
    },
    "kernelspec": {
      "name": "ir",
      "display_name": "R"
    },
    "language_info": {
      "name": "R"
    }
  },
  "cells": [
    {
      "cell_type": "markdown",
      "metadata": {
        "id": "view-in-github",
        "colab_type": "text"
      },
      "source": [
        "<a href=\"https://colab.research.google.com/github/agroimpacts/USF/blob/main/Web_scraping_in_R.ipynb\" target=\"_parent\"><img src=\"https://colab.research.google.com/assets/colab-badge.svg\" alt=\"Open In Colab\"/></a>"
      ]
    },
    {
      "cell_type": "markdown",
      "source": [
        "# **Web-scraping in R**"
      ],
      "metadata": {
        "id": "a_cWBP_90Gbu"
      }
    },
    {
      "cell_type": "markdown",
      "source": [
        "The rvest library will be used for web-scraping in R. It is one of the tidyverse libraries, and is similar to the the BeautifulSoup library for web-scraping in Python. We will first install and import rvest in the below chunk.\n"
      ],
      "metadata": {
        "id": "rROCtayb0GjX"
      }
    },
    {
      "cell_type": "code",
      "source": [
        "install.packages(\"rvest\")\n",
        "library(rvest)"
      ],
      "metadata": {
        "colab": {
          "base_uri": "https://localhost:8080/"
        },
        "id": "gYQ2Q8v70Rcd",
        "outputId": "e5f95bbe-a725-49e2-8cfa-cf47514e2201"
      },
      "execution_count": null,
      "outputs": [
        {
          "output_type": "stream",
          "name": "stderr",
          "text": [
            "Installing package into ‘/usr/local/lib/R/site-library’\n",
            "(as ‘lib’ is unspecified)\n",
            "\n"
          ]
        }
      ]
    },
    {
      "cell_type": "markdown",
      "source": [
        "#**Webpage Structure**"
      ],
      "metadata": {
        "id": "RWFWEnHe0VXN"
      }
    },
    {
      "cell_type": "markdown",
      "source": [
        "Webpages are generally made up of three types of languages: Hypertext Markup Language (HTML), which makes up a webpage's structure and content, Cascasing Style Sheets (CSS), which makes up the style and look of a webpage, and Javascript, which provides different functions and interactive to elements of a webpage. Web-scraping focuses on reading the HTML code of a webpage.\n",
        "\n",
        "HTML is structured into elements, which consistant of a start and end tag, some optional elements, and contents. There are over 100 types of HTML elements, which you can read more about on [MDN Web Docs reference sheet for HTML elements](https://developer.mozilla.org/en-US/docs/Web/HTML/Element). \n",
        "\n",
        "You can also view the html document of a web-page by right clicking on the web-page and selecting \"Inspect\", or \"View page source\" to open the document in a new window.\n",
        "\n",
        "To start the scraping process, input the url of the webpage to the read_html() function. In this example, we will use the [NYPD Neighborhood Policing site](https://www1.nyc.gov/site/nypd/bureaus/patrol/neighborhood-coordination-officers.page). The following code will return an xml_document object that we will use in later steps."
      ],
      "metadata": {
        "id": "CF-f878i0Y6E"
      }
    },
    {
      "cell_type": "code",
      "source": [
        "url <- \"https://www1.nyc.gov/site/nypd/bureaus/patrol/neighborhood-coordination-officers.page\"\n",
        "html <- read_html(url)\n",
        "class(html)"
      ],
      "metadata": {
        "colab": {
          "base_uri": "https://localhost:8080/",
          "height": 34
        },
        "id": "jbNCT-mz0ptZ",
        "outputId": "8860f44b-bf31-455a-eec7-56611715c300"
      },
      "execution_count": 74,
      "outputs": [
        {
          "output_type": "display_data",
          "data": {
            "text/html": [
              "<style>\n",
              ".list-inline {list-style: none; margin:0; padding: 0}\n",
              ".list-inline>li {display: inline-block}\n",
              ".list-inline>li:not(:last-child)::after {content: \"\\00b7\"; padding: 0 .5ex}\n",
              "</style>\n",
              "<ol class=list-inline><li>'xml_document'</li><li>'xml_node'</li></ol>\n"
            ],
            "text/markdown": "1. 'xml_document'\n2. 'xml_node'\n\n\n",
            "text/latex": "\\begin{enumerate*}\n\\item 'xml\\_document'\n\\item 'xml\\_node'\n\\end{enumerate*}\n",
            "text/plain": [
              "[1] \"xml_document\" \"xml_node\"    "
            ]
          },
          "metadata": {}
        }
      ]
    },
    {
      "cell_type": "markdown",
      "source": [
        "To identify the elements of our xml document that contain our target information, rvest provides two options: CSS selectors and XPath expressions.This tutorial will cover CSS Selectors since they are simpler to work with. CSS Selectors help locate HTML elements by defining patterns for scraping elements. The some common selectors are:\n",
        "  * *p*: selects all <p> elements, which typically include paragraphs of text\n",
        "  **.title*: selects all elements with the class \"title\"\n",
        "  **p.special*: selects all <p> elements with the class \"special\"\n",
        "\n",
        "Let's look the *title* and *p* CSS selector in our wiki page."
      ],
      "metadata": {
        "id": "MV5D5KkH0svy"
      }
    },
    {
      "cell_type": "code",
      "source": [
        "#Webpage Title\n",
        "html %>% html_elements(\"title\")\n",
        "\n",
        "#Paragraphs\n",
        "html %>% html_elements(\"p\")"
      ],
      "metadata": {
        "colab": {
          "base_uri": "https://localhost:8080/",
          "height": 225
        },
        "id": "un_unXWf06Ks",
        "outputId": "064279fe-0116-4262-dcef-978f9f6b5984"
      },
      "execution_count": 75,
      "outputs": [
        {
          "output_type": "display_data",
          "data": {
            "text/plain": [
              "{xml_nodeset (1)}\n",
              "[1] <title>Neighborhood Policing - NYPD</title>\\n"
            ]
          },
          "metadata": {}
        },
        {
          "output_type": "display_data",
          "data": {
            "text/plain": [
              "{xml_nodeset (9)}\n",
              "[1] <p>The cornerstone of today's NYPD is Neighborhood Policing, a comprehens ...\n",
              "[2] <p>The NYPD has long encouraged officers to strengthen bonds with the com ...\n",
              "[3] <p>Neighborhood Policing divides precincts into four or five fully-staffe ...\n",
              "[4] <p>Neighborhood Policing is sufficiently staffed to permit off-radio time ...\n",
              "[5] <p>Supporting the sector officers and filling out each sector's team are  ...\n",
              "[6] <p>NCOs are adding a new dimension to the NYPD's crime-fighting capabilit ...\n",
              "[7] <p>City of New York. 2022 All Rights Reserved,</p>\n",
              "[8] <p>NYC is a trademark and service mark of the City of New York</p>\n",
              "[9] <p style=\"display: block; width: 100%;\"><a title=\"Privacy Ploicy \" href=\" ..."
            ]
          },
          "metadata": {}
        }
      ]
    },
    {
      "cell_type": "markdown",
      "source": [
        "The {xml_nodeset()} line shows how many of the target elements there are-- in the above example, we have one title element and 9 paragraph elements in this page. It also shows a preview of the text in each paragraph element."
      ],
      "metadata": {
        "id": "BP1kHz-J2WHS"
      }
    },
    {
      "cell_type": "markdown",
      "source": [
        "#**Extracting Data**"
      ],
      "metadata": {
        "id": "_RhjplfA2wWU"
      }
    },
    {
      "cell_type": "markdown",
      "source": [
        "##**Text**"
      ],
      "metadata": {
        "id": "Ft7JMUxP2yub"
      }
    },
    {
      "cell_type": "markdown",
      "source": [
        "Once you have identified which elements are of importance, you can retrieve the data from them in the form of text contents or an attribute. Let's retrieve the contents under the <p> elements of this page. We'll first set the element we want (p) and then retrieve the text using an html_text fucntion. There are two such functions-- *html_text()* and *html_text2()*. *html_text()* will return raw underlying text while *html_text2()* will simulate how the text looks in the webpage. We typically want to use *html_text2()*, but it can be slower than *html_text()* in some cases."
      ],
      "metadata": {
        "id": "t4tjIWEo21fA"
      }
    },
    {
      "cell_type": "code",
      "source": [
        "text <-html %>% \n",
        "  html_elements(\"p\") %>%\n",
        "  html_text2()\n",
        "text"
      ],
      "metadata": {
        "colab": {
          "base_uri": "https://localhost:8080/",
          "height": 260
        },
        "id": "cN9_vQno3G13",
        "outputId": "66162b20-5b9b-4f76-e435-11129dffd3af"
      },
      "execution_count": 76,
      "outputs": [
        {
          "output_type": "display_data",
          "data": {
            "text/html": [
              "<style>\n",
              ".list-inline {list-style: none; margin:0; padding: 0}\n",
              ".list-inline>li {display: inline-block}\n",
              ".list-inline>li:not(:last-child)::after {content: \"\\00b7\"; padding: 0 .5ex}\n",
              "</style>\n",
              "<ol class=list-inline><li>'The cornerstone of today\\'s NYPD is Neighborhood Policing, a comprehensive crime-fighting strategy built on improved communication and collaboration between local police officers and community residents. Neighborhood Policing greatly increases connectivity and engagement with the community without diminishing, and, in fact, improving the NYPD\\'s crime-fighting capabilities.'</li><li>'The NYPD has long encouraged officers to strengthen bonds with the communities they patrol, but past practice in precincts left little time or opportunity for true community engagement. In recent years, the Patrol Services Bureau has systematically reorganized its patrol methods to achieve the goal of establishing Neighborhood Policing in every precinct, citywide, by 2019.'</li><li>'Neighborhood Policing divides precincts into four or five fully-staffed sectors that correspond, as much as possible, to the boundaries of actual established neighborhoods. The same officers work in the same neighborhoods on the same shifts, increasing their familiarity with local residents and local problems. The radio dispatchers, supervisors, and sector officers work together to maintain \"sector integrity,\" meaning that the sector officers and sector cars do not leave the boundaries of their assigned sectors, except in precinct-wide emergencies.'</li><li>'Neighborhood Policing is sufficiently staffed to permit off-radio time for the sector officers, so they are not exclusively assigned to answering calls for service. Their off-radio time is used to engage with neighborhood residents, identify local problems, and work toward solutions. The sector officer plays the role of a generalist cop who knows and feels responsible for the sector, and who provides the full range of policing services there.'</li><li>'Supporting the sector officers and filling out each sector\\'s team are two officers designated as the neighborhood coordination officers (NCOs). The NCOs serve as liaisons between the police and the community, but also as key crime-fighters and problem-solvers in the sector. They familiarize themselves with residents and their problems by attending community meetings with neighborhood leaders and clergy, visiting schools, following up on previous incidents, and using creative techniques and adaptive skills.'</li><li>'NCOs are adding a new dimension to the NYPD\\'s crime-fighting capabilities. They function as adjuncts to the local detective squads, responding swiftly to breaking incidents and developing leads and evidence that might have been missed under the old patrol model. Most importantly, they feel a sense of belonging and responsibility that fosters a willingness to do whatever it takes to keep the neighborhood safe and secure.'</li><li>'City of New York. 2022 All Rights Reserved,'</li><li>'NYC is a trademark and service mark of the City of New York'</li><li>'Privacy Policy. Terms of Use. '</li></ol>\n"
            ],
            "text/markdown": "1. 'The cornerstone of today\\'s NYPD is Neighborhood Policing, a comprehensive crime-fighting strategy built on improved communication and collaboration between local police officers and community residents. Neighborhood Policing greatly increases connectivity and engagement with the community without diminishing, and, in fact, improving the NYPD\\'s crime-fighting capabilities.'\n2. 'The NYPD has long encouraged officers to strengthen bonds with the communities they patrol, but past practice in precincts left little time or opportunity for true community engagement. In recent years, the Patrol Services Bureau has systematically reorganized its patrol methods to achieve the goal of establishing Neighborhood Policing in every precinct, citywide, by 2019.'\n3. 'Neighborhood Policing divides precincts into four or five fully-staffed sectors that correspond, as much as possible, to the boundaries of actual established neighborhoods. The same officers work in the same neighborhoods on the same shifts, increasing their familiarity with local residents and local problems. The radio dispatchers, supervisors, and sector officers work together to maintain \"sector integrity,\" meaning that the sector officers and sector cars do not leave the boundaries of their assigned sectors, except in precinct-wide emergencies.'\n4. 'Neighborhood Policing is sufficiently staffed to permit off-radio time for the sector officers, so they are not exclusively assigned to answering calls for service. Their off-radio time is used to engage with neighborhood residents, identify local problems, and work toward solutions. The sector officer plays the role of a generalist cop who knows and feels responsible for the sector, and who provides the full range of policing services there.'\n5. 'Supporting the sector officers and filling out each sector\\'s team are two officers designated as the neighborhood coordination officers (NCOs). The NCOs serve as liaisons between the police and the community, but also as key crime-fighters and problem-solvers in the sector. They familiarize themselves with residents and their problems by attending community meetings with neighborhood leaders and clergy, visiting schools, following up on previous incidents, and using creative techniques and adaptive skills.'\n6. 'NCOs are adding a new dimension to the NYPD\\'s crime-fighting capabilities. They function as adjuncts to the local detective squads, responding swiftly to breaking incidents and developing leads and evidence that might have been missed under the old patrol model. Most importantly, they feel a sense of belonging and responsibility that fosters a willingness to do whatever it takes to keep the neighborhood safe and secure.'\n7. 'City of New York. 2022 All Rights Reserved,'\n8. 'NYC is a trademark and service mark of the City of New York'\n9. 'Privacy Policy. Terms of Use. '\n\n\n",
            "text/latex": "\\begin{enumerate*}\n\\item 'The cornerstone of today\\textbackslash{}'s NYPD is Neighborhood Policing, a comprehensive crime-fighting strategy built on improved communication and collaboration between local police officers and community residents. Neighborhood Policing greatly increases connectivity and engagement with the community without diminishing, and, in fact, improving the NYPD\\textbackslash{}'s crime-fighting capabilities.'\n\\item 'The NYPD has long encouraged officers to strengthen bonds with the communities they patrol, but past practice in precincts left little time or opportunity for true community engagement. In recent years, the Patrol Services Bureau has systematically reorganized its patrol methods to achieve the goal of establishing Neighborhood Policing in every precinct, citywide, by 2019.'\n\\item 'Neighborhood Policing divides precincts into four or five fully-staffed sectors that correspond, as much as possible, to the boundaries of actual established neighborhoods. The same officers work in the same neighborhoods on the same shifts, increasing their familiarity with local residents and local problems. The radio dispatchers, supervisors, and sector officers work together to maintain \"sector integrity,\" meaning that the sector officers and sector cars do not leave the boundaries of their assigned sectors, except in precinct-wide emergencies.'\n\\item 'Neighborhood Policing is sufficiently staffed to permit off-radio time for the sector officers, so they are not exclusively assigned to answering calls for service. Their off-radio time is used to engage with neighborhood residents, identify local problems, and work toward solutions. The sector officer plays the role of a generalist cop who knows and feels responsible for the sector, and who provides the full range of policing services there.'\n\\item 'Supporting the sector officers and filling out each sector\\textbackslash{}'s team are two officers designated as the neighborhood coordination officers (NCOs). The NCOs serve as liaisons between the police and the community, but also as key crime-fighters and problem-solvers in the sector. They familiarize themselves with residents and their problems by attending community meetings with neighborhood leaders and clergy, visiting schools, following up on previous incidents, and using creative techniques and adaptive skills.'\n\\item 'NCOs are adding a new dimension to the NYPD\\textbackslash{}'s crime-fighting capabilities. They function as adjuncts to the local detective squads, responding swiftly to breaking incidents and developing leads and evidence that might have been missed under the old patrol model. Most importantly, they feel a sense of belonging and responsibility that fosters a willingness to do whatever it takes to keep the neighborhood safe and secure.'\n\\item 'City of New York. 2022 All Rights Reserved,'\n\\item 'NYC is a trademark and service mark of the City of New York'\n\\item 'Privacy Policy. Terms of Use. '\n\\end{enumerate*}\n",
            "text/plain": [
              "[1] \"The cornerstone of today's NYPD is Neighborhood Policing, a comprehensive crime-fighting strategy built on improved communication and collaboration between local police officers and community residents. Neighborhood Policing greatly increases connectivity and engagement with the community without diminishing, and, in fact, improving the NYPD's crime-fighting capabilities.\"                                                                                                                                                                                      \n",
              "[2] \"The NYPD has long encouraged officers to strengthen bonds with the communities they patrol, but past practice in precincts left little time or opportunity for true community engagement. In recent years, the Patrol Services Bureau has systematically reorganized its patrol methods to achieve the goal of establishing Neighborhood Policing in every precinct, citywide, by 2019.\"                                                                                                                                                                                     \n",
              "[3] \"Neighborhood Policing divides precincts into four or five fully-staffed sectors that correspond, as much as possible, to the boundaries of actual established neighborhoods. The same officers work in the same neighborhoods on the same shifts, increasing their familiarity with local residents and local problems. The radio dispatchers, supervisors, and sector officers work together to maintain \\\"sector integrity,\\\" meaning that the sector officers and sector cars do not leave the boundaries of their assigned sectors, except in precinct-wide emergencies.\"\n",
              "[4] \"Neighborhood Policing is sufficiently staffed to permit off-radio time for the sector officers, so they are not exclusively assigned to answering calls for service. Their off-radio time is used to engage with neighborhood residents, identify local problems, and work toward solutions. The sector officer plays the role of a generalist cop who knows and feels responsible for the sector, and who provides the full range of policing services there.\"                                                                                                              \n",
              "[5] \"Supporting the sector officers and filling out each sector's team are two officers designated as the neighborhood coordination officers (NCOs). The NCOs serve as liaisons between the police and the community, but also as key crime-fighters and problem-solvers in the sector. They familiarize themselves with residents and their problems by attending community meetings with neighborhood leaders and clergy, visiting schools, following up on previous incidents, and using creative techniques and adaptive skills.\"                                             \n",
              "[6] \"NCOs are adding a new dimension to the NYPD's crime-fighting capabilities. They function as adjuncts to the local detective squads, responding swiftly to breaking incidents and developing leads and evidence that might have been missed under the old patrol model. Most importantly, they feel a sense of belonging and responsibility that fosters a willingness to do whatever it takes to keep the neighborhood safe and secure.\"                                                                                                                                     \n",
              "[7] \"City of New York. 2022 All Rights Reserved,\"                                                                                                                                                                                                                                                                                                                                                                                                                                                                                                                                 \n",
              "[8] \"NYC is a trademark and service mark of the City of New York\"                                                                                                                                                                                                                                                                                                                                                                                                                                                                                                                 \n",
              "[9] \"Privacy Policy. Terms of Use. \"                                                                                                                                                                                                                                                                                                                                                                                                                                                                                                                                              "
            ]
          },
          "metadata": {}
        }
      ]
    },
    {
      "cell_type": "markdown",
      "source": [
        "##**Attributes**"
      ],
      "metadata": {
        "id": "XFuUOhEU3mzg"
      }
    },
    {
      "cell_type": "markdown",
      "source": [
        "Attributes record things like hyperlinks, image sources, alternative text,etc. The two most common attributes, are the href attribute of a elements, which indicates a url, and the src attribute of an img element, which indicates the url for an image."
      ],
      "metadata": {
        "id": "1UL2AGBu3qpc"
      }
    },
    {
      "cell_type": "code",
      "source": [
        "#Extract Links\n",
        "links <- html %>% \n",
        "  html_elements(\"a\") %>% \n",
        "  html_attr(\"href\")\n",
        "links"
      ],
      "metadata": {
        "colab": {
          "base_uri": "https://localhost:8080/",
          "height": 121
        },
        "id": "5tgqYnLf3uHg",
        "outputId": "ddef01a5-fd3e-4d34-bac3-1f6a77212257"
      },
      "execution_count": 77,
      "outputs": [
        {
          "output_type": "display_data",
          "data": {
            "text/html": [
              "<style>\n",
              ".list-inline {list-style: none; margin:0; padding: 0}\n",
              ".list-inline>li {display: inline-block}\n",
              ".list-inline>li:not(:last-child)::after {content: \"\\00b7\"; padding: 0 .5ex}\n",
              "</style>\n",
              "<ol class=list-inline><li>'http://www1.nyc.gov'</li><li>'/311/index.page'</li><li>'/home/search/index.page'</li><li>'#'</li><li>'/site/nypd/index.page'</li><li>'http://www1.nyc.gov/home/text-size.page'</li><li>'#'</li><li>'/site/nypd/index.page'</li><li>'/site/nypd/about/about-nypd/about-nypd-landing.page'</li><li>'/site/nypd/bureaus/bureaus.page'</li><li>'/site/nypd/services/services.page'</li><li>'/site/nypd/stats/stats.page'</li><li>'/site/nypd/media/media.page'</li><li>'/site/nypd/careers/careers.page'</li><li>'/site/nypd/about/about-nypd/public-comment.page'</li><li>'/site/nypd/bureaus/patrol/patrol-landing.page'</li><li>'/site/nypd/bureaus/transit-housing/transit-housing-landing.page'</li><li>'/site/nypd/bureaus/investigative/investigative-landing.page'</li><li>'/site/nypd/bureaus/administrative/administrative-landing.page'</li><li>'/site/nypd/bureaus/patrol/find-your-precinct.page'</li><li>'/site/nypd/bureaus/patrol/precincts-landing.page'</li><li>'/site/nypd/bureaus/patrol/find-your-meeting.page'</li><li>'/site/nypd/bureaus/patrol/neighborhood-coordination-officers.page'</li><li>'/site/nypd/bureaus/patrol/citywide-operations.page'</li><li>'#'</li><li>'#'</li><li>'#'</li><li>'#'</li><li>'#'</li><li>'/nyc-resources/agencies.page'</li><li>'/home/contact-us.page'</li><li>'https://a127-ess.nyc.gov'</li><li>'https://a858-nycnotify.nyc.gov/notifynyc/'</li><li>'https://a856-citystore.nyc.gov/'</li><li>'/connect/social-media.page'</li><li>'/connect/mobile-applications.page'</li><li>'/nyc-resources/nyc-maps.page'</li><li>'/nyc-resources/resident-toolkit.page'</li><li>'/home/privacy-policy.page'</li><li>'/home/terms-of-use.page'</li><li>'http://www.nyc.gov/digitalaccess'</li></ol>\n"
            ],
            "text/markdown": "1. 'http://www1.nyc.gov'\n2. '/311/index.page'\n3. '/home/search/index.page'\n4. '#'\n5. '/site/nypd/index.page'\n6. 'http://www1.nyc.gov/home/text-size.page'\n7. '#'\n8. '/site/nypd/index.page'\n9. '/site/nypd/about/about-nypd/about-nypd-landing.page'\n10. '/site/nypd/bureaus/bureaus.page'\n11. '/site/nypd/services/services.page'\n12. '/site/nypd/stats/stats.page'\n13. '/site/nypd/media/media.page'\n14. '/site/nypd/careers/careers.page'\n15. '/site/nypd/about/about-nypd/public-comment.page'\n16. '/site/nypd/bureaus/patrol/patrol-landing.page'\n17. '/site/nypd/bureaus/transit-housing/transit-housing-landing.page'\n18. '/site/nypd/bureaus/investigative/investigative-landing.page'\n19. '/site/nypd/bureaus/administrative/administrative-landing.page'\n20. '/site/nypd/bureaus/patrol/find-your-precinct.page'\n21. '/site/nypd/bureaus/patrol/precincts-landing.page'\n22. '/site/nypd/bureaus/patrol/find-your-meeting.page'\n23. '/site/nypd/bureaus/patrol/neighborhood-coordination-officers.page'\n24. '/site/nypd/bureaus/patrol/citywide-operations.page'\n25. '#'\n26. '#'\n27. '#'\n28. '#'\n29. '#'\n30. '/nyc-resources/agencies.page'\n31. '/home/contact-us.page'\n32. 'https://a127-ess.nyc.gov'\n33. 'https://a858-nycnotify.nyc.gov/notifynyc/'\n34. 'https://a856-citystore.nyc.gov/'\n35. '/connect/social-media.page'\n36. '/connect/mobile-applications.page'\n37. '/nyc-resources/nyc-maps.page'\n38. '/nyc-resources/resident-toolkit.page'\n39. '/home/privacy-policy.page'\n40. '/home/terms-of-use.page'\n41. 'http://www.nyc.gov/digitalaccess'\n\n\n",
            "text/latex": "\\begin{enumerate*}\n\\item 'http://www1.nyc.gov'\n\\item '/311/index.page'\n\\item '/home/search/index.page'\n\\item '\\#'\n\\item '/site/nypd/index.page'\n\\item 'http://www1.nyc.gov/home/text-size.page'\n\\item '\\#'\n\\item '/site/nypd/index.page'\n\\item '/site/nypd/about/about-nypd/about-nypd-landing.page'\n\\item '/site/nypd/bureaus/bureaus.page'\n\\item '/site/nypd/services/services.page'\n\\item '/site/nypd/stats/stats.page'\n\\item '/site/nypd/media/media.page'\n\\item '/site/nypd/careers/careers.page'\n\\item '/site/nypd/about/about-nypd/public-comment.page'\n\\item '/site/nypd/bureaus/patrol/patrol-landing.page'\n\\item '/site/nypd/bureaus/transit-housing/transit-housing-landing.page'\n\\item '/site/nypd/bureaus/investigative/investigative-landing.page'\n\\item '/site/nypd/bureaus/administrative/administrative-landing.page'\n\\item '/site/nypd/bureaus/patrol/find-your-precinct.page'\n\\item '/site/nypd/bureaus/patrol/precincts-landing.page'\n\\item '/site/nypd/bureaus/patrol/find-your-meeting.page'\n\\item '/site/nypd/bureaus/patrol/neighborhood-coordination-officers.page'\n\\item '/site/nypd/bureaus/patrol/citywide-operations.page'\n\\item '\\#'\n\\item '\\#'\n\\item '\\#'\n\\item '\\#'\n\\item '\\#'\n\\item '/nyc-resources/agencies.page'\n\\item '/home/contact-us.page'\n\\item 'https://a127-ess.nyc.gov'\n\\item 'https://a858-nycnotify.nyc.gov/notifynyc/'\n\\item 'https://a856-citystore.nyc.gov/'\n\\item '/connect/social-media.page'\n\\item '/connect/mobile-applications.page'\n\\item '/nyc-resources/nyc-maps.page'\n\\item '/nyc-resources/resident-toolkit.page'\n\\item '/home/privacy-policy.page'\n\\item '/home/terms-of-use.page'\n\\item 'http://www.nyc.gov/digitalaccess'\n\\end{enumerate*}\n",
            "text/plain": [
              " [1] \"http://www1.nyc.gov\"                                              \n",
              " [2] \"/311/index.page\"                                                  \n",
              " [3] \"/home/search/index.page\"                                          \n",
              " [4] \"#\"                                                                \n",
              " [5] \"/site/nypd/index.page\"                                            \n",
              " [6] \"http://www1.nyc.gov/home/text-size.page\"                          \n",
              " [7] \"#\"                                                                \n",
              " [8] \"/site/nypd/index.page\"                                            \n",
              " [9] \"/site/nypd/about/about-nypd/about-nypd-landing.page\"              \n",
              "[10] \"/site/nypd/bureaus/bureaus.page\"                                  \n",
              "[11] \"/site/nypd/services/services.page\"                                \n",
              "[12] \"/site/nypd/stats/stats.page\"                                      \n",
              "[13] \"/site/nypd/media/media.page\"                                      \n",
              "[14] \"/site/nypd/careers/careers.page\"                                  \n",
              "[15] \"/site/nypd/about/about-nypd/public-comment.page\"                  \n",
              "[16] \"/site/nypd/bureaus/patrol/patrol-landing.page\"                    \n",
              "[17] \"/site/nypd/bureaus/transit-housing/transit-housing-landing.page\"  \n",
              "[18] \"/site/nypd/bureaus/investigative/investigative-landing.page\"      \n",
              "[19] \"/site/nypd/bureaus/administrative/administrative-landing.page\"    \n",
              "[20] \"/site/nypd/bureaus/patrol/find-your-precinct.page\"                \n",
              "[21] \"/site/nypd/bureaus/patrol/precincts-landing.page\"                 \n",
              "[22] \"/site/nypd/bureaus/patrol/find-your-meeting.page\"                 \n",
              "[23] \"/site/nypd/bureaus/patrol/neighborhood-coordination-officers.page\"\n",
              "[24] \"/site/nypd/bureaus/patrol/citywide-operations.page\"               \n",
              "[25] \"#\"                                                                \n",
              "[26] \"#\"                                                                \n",
              "[27] \"#\"                                                                \n",
              "[28] \"#\"                                                                \n",
              "[29] \"#\"                                                                \n",
              "[30] \"/nyc-resources/agencies.page\"                                     \n",
              "[31] \"/home/contact-us.page\"                                            \n",
              "[32] \"https://a127-ess.nyc.gov\"                                         \n",
              "[33] \"https://a858-nycnotify.nyc.gov/notifynyc/\"                        \n",
              "[34] \"https://a856-citystore.nyc.gov/\"                                  \n",
              "[35] \"/connect/social-media.page\"                                       \n",
              "[36] \"/connect/mobile-applications.page\"                                \n",
              "[37] \"/nyc-resources/nyc-maps.page\"                                     \n",
              "[38] \"/nyc-resources/resident-toolkit.page\"                             \n",
              "[39] \"/home/privacy-policy.page\"                                        \n",
              "[40] \"/home/terms-of-use.page\"                                          \n",
              "[41] \"http://www.nyc.gov/digitalaccess\"                                 "
            ]
          },
          "metadata": {}
        }
      ]
    },
    {
      "cell_type": "code",
      "source": [
        "image <- html %>%\n",
        "  html_elements(\"img\") %>%\n",
        "  html_attr(\"src\")\n",
        "image"
      ],
      "metadata": {
        "colab": {
          "base_uri": "https://localhost:8080/",
          "height": 52
        },
        "id": "sQrJx_MoL32U",
        "outputId": "a2ddaee7-b7d1-46ef-c4ab-80a04d7f6131"
      },
      "execution_count": 79,
      "outputs": [
        {
          "output_type": "display_data",
          "data": {
            "text/html": [
              "<style>\n",
              ".list-inline {list-style: none; margin:0; padding: 0}\n",
              ".list-inline>li {display: inline-block}\n",
              ".list-inline>li:not(:last-child)::after {content: \"\\00b7\"; padding: 0 .5ex}\n",
              "</style>\n",
              "<ol class=list-inline><li>'/assets/home/images/global/nyc_white.png'</li><li>'/assets/home/images/global/upper-header-divider.gif'</li><li>'/assets/home/images/global/upper-header-divider.gif'</li><li>'/assets/nypd/images/content/header/logo.png'</li><li>'/assets/home/images/global/language.gif'</li><li>'/assets/home/images/global/print.png'</li><li>'/assets/nypd/images/content/banners/bureaus/neighborhood-policing-banner.png'</li><li>'https://www1.nyc.gov/assets/home/images/global/accessibility_icon.svg'</li></ol>\n"
            ],
            "text/markdown": "1. '/assets/home/images/global/nyc_white.png'\n2. '/assets/home/images/global/upper-header-divider.gif'\n3. '/assets/home/images/global/upper-header-divider.gif'\n4. '/assets/nypd/images/content/header/logo.png'\n5. '/assets/home/images/global/language.gif'\n6. '/assets/home/images/global/print.png'\n7. '/assets/nypd/images/content/banners/bureaus/neighborhood-policing-banner.png'\n8. 'https://www1.nyc.gov/assets/home/images/global/accessibility_icon.svg'\n\n\n",
            "text/latex": "\\begin{enumerate*}\n\\item '/assets/home/images/global/nyc\\_white.png'\n\\item '/assets/home/images/global/upper-header-divider.gif'\n\\item '/assets/home/images/global/upper-header-divider.gif'\n\\item '/assets/nypd/images/content/header/logo.png'\n\\item '/assets/home/images/global/language.gif'\n\\item '/assets/home/images/global/print.png'\n\\item '/assets/nypd/images/content/banners/bureaus/neighborhood-policing-banner.png'\n\\item 'https://www1.nyc.gov/assets/home/images/global/accessibility\\_icon.svg'\n\\end{enumerate*}\n",
            "text/plain": [
              "[1] \"/assets/home/images/global/nyc_white.png\"                                    \n",
              "[2] \"/assets/home/images/global/upper-header-divider.gif\"                         \n",
              "[3] \"/assets/home/images/global/upper-header-divider.gif\"                         \n",
              "[4] \"/assets/nypd/images/content/header/logo.png\"                                 \n",
              "[5] \"/assets/home/images/global/language.gif\"                                     \n",
              "[6] \"/assets/home/images/global/print.png\"                                        \n",
              "[7] \"/assets/nypd/images/content/banners/bureaus/neighborhood-policing-banner.png\"\n",
              "[8] \"https://www1.nyc.gov/assets/home/images/global/accessibility_icon.svg\"       "
            ]
          },
          "metadata": {}
        }
      ]
    },
    {
      "cell_type": "markdown",
      "source": [
        "##**Tables**"
      ],
      "metadata": {
        "id": "wwJjDo1i3y2X"
      }
    },
    {
      "cell_type": "markdown",
      "source": [
        "Another common way information is presented in html is the table format, which is composed of *table*, *tr* (rows), *th* (heading), and *td* (data) elements. We can retrieve data from tables using the *html_table()* function, which will convert the element into a dataframe in R. We will use this [New York Police  Disciplinary Records dataset](https://data.democratandchronicle.com/new-york-police-disciplinary-records/) for this example. "
      ],
      "metadata": {
        "id": "TLUL_M_d31KH"
      }
    },
    {
      "cell_type": "code",
      "source": [
        "url <- \"https://data.democratandchronicle.com/new-york-police-disciplinary-records/\"\n",
        "html2 <- read_html(url)\n",
        "\n",
        "table <- html2 %>%\n",
        "  html_node(\"table\") %>%\n",
        "  html_table()\n",
        "table"
      ],
      "metadata": {
        "colab": {
          "base_uri": "https://localhost:8080/",
          "height": 1000
        },
        "id": "-nhz8mt64D23",
        "outputId": "f0d7d8f1-b83d-46f4-aa1d-93fe562b97ae"
      },
      "execution_count": 81,
      "outputs": [
        {
          "output_type": "display_data",
          "data": {
            "text/html": [
              "<table class=\"dataframe\">\n",
              "<caption>A tibble: 25 × 7</caption>\n",
              "<thead>\n",
              "\t<tr><th scope=col>Officer(s)</th><th scope=col>Incident</th><th scope=col>Incident Date</th><th scope=col>Final Outcome (Date Resolved)</th><th scope=col>Employer</th><th scope=col>City</th><th scope=col>County</th></tr>\n",
              "\t<tr><th scope=col>&lt;chr&gt;</th><th scope=col>&lt;chr&gt;</th><th scope=col>&lt;chr&gt;</th><th scope=col>&lt;chr&gt;</th><th scope=col>&lt;chr&gt;</th><th scope=col>&lt;chr&gt;</th><th scope=col>&lt;chr&gt;</th></tr>\n",
              "</thead>\n",
              "<tbody>\n",
              "\t<tr><td>Bradstreet, Adam    </td><td>Other - Reckless driving                          </td><td>Aug. 17, 2020 </td><td>Written reprimand (Oct. 23, 2020)                                                                                                         </td><td>Rochester City PD   </td><td>Rochester</td><td>Monroe County</td></tr>\n",
              "\t<tr><td>Schneeberger, Hannah</td><td>Other - Reckless driving                          </td><td>April 27, 2020</td><td>The officer received a one-day suspension without pay. (Aug. 6, 2020)                                                                     </td><td>Rochester City PD   </td><td>Rochester</td><td>Monroe County</td></tr>\n",
              "\t<tr><td>Tantalo, Mary       </td><td>Other - Reckless driving                          </td><td>March 15, 2020</td><td>The officer received a one-day suspension without pay. (July 7, 2020)                                                                     </td><td>Rochester City PD   </td><td>Rochester</td><td>Monroe County</td></tr>\n",
              "\t<tr><td>Iacuzzi, Christopher</td><td>Other - Reckless driving                          </td><td>Feb. 6, 2020  </td><td>Written reprimand (June 29, 2020)                                                                                                         </td><td>Rochester City PD   </td><td>Rochester</td><td>Monroe County</td></tr>\n",
              "\t<tr><td>Coughlin, James     </td><td>Discourtesy - Insubordination                     </td><td>Jan. 13, 2020 </td><td>Other (Feb. 6, 2020)                                                                                                                      </td><td>Gates Town PD       </td><td>Gates    </td><td>Monroe County</td></tr>\n",
              "\t<tr><td>Callin, Ryan        </td><td>Other - Failure to perform duty                   </td><td>Dec. 25, 2019 </td><td>Memorandum of record (Jan. 7, 2020)                                                                                                       </td><td>Fairport Village PD </td><td>Fairport </td><td>Monroe County</td></tr>\n",
              "\t<tr><td>Woicyk, John        </td><td>Discourtesy - Unprofessional                      </td><td>Dec. 21, 2019 </td><td>The officer received a five-day suspension without pay. (Feb. 6, 2020)                                                                    </td><td>Rochester City PD   </td><td>Rochester</td><td>Monroe County</td></tr>\n",
              "\t<tr><td>Mortillaro, Michael </td><td>Other - Reckless driving                          </td><td>Dec. 7, 2019  </td><td>The officer was suspended without pay for one day. (April 22, 2020)                                                                       </td><td>Rochester City PD   </td><td>Rochester</td><td>Monroe County</td></tr>\n",
              "\t<tr><td>Mortillaro, Michael </td><td>Force - Behavior unbecoming a police officer      </td><td>Dec. 3, 2019  </td><td>The officer was suspended without pay for 15 days. (May 28, 2020)                                                                         </td><td>Rochester City PD   </td><td>Rochester</td><td>Monroe County</td></tr>\n",
              "\t<tr><td>Blodgett, Evan      </td><td>Other - Failure to perform duty                   </td><td>Nov. 9, 2019  </td><td>Indefinite suspension (Nov. 14, 2019)                                                                                                     </td><td>Brockport Village PD</td><td>Brockport</td><td>Monroe County</td></tr>\n",
              "\t<tr><td>Lindauer Jr., Jeremy</td><td>Other - Failure to perform duty                   </td><td>Oct. 9, 2019  </td><td>In conjunction with a first incident, the officer was suspended without pay for five days. (May 28, 2020)                                 </td><td>Rochester City PD   </td><td>Rochester</td><td>Monroe County</td></tr>\n",
              "\t<tr><td>Tantalo, Mary       </td><td>Other - Reckless driving                          </td><td>Oct. 3, 2019  </td><td>The assessed penalty is a letter of reprimand if the officer pleads guilty.                                                               </td><td>Rochester City PD   </td><td>Rochester</td><td>Monroe County</td></tr>\n",
              "\t<tr><td>Celiberti, Daniel   </td><td>Other - Reckless driving                          </td><td>Sept. 28, 2019</td><td>Written reprimand (Feb. 7, 2020)                                                                                                          </td><td>Rochester City PD   </td><td>Rochester</td><td>Monroe County</td></tr>\n",
              "\t<tr><td>Edwards, Connor     </td><td>Other - Reckless driving                          </td><td>Sept. 5, 2019 </td><td>Written reprimand (Jan. 23, 2020)                                                                                                         </td><td>Rochester City PD   </td><td>Rochester</td><td>Monroe County</td></tr>\n",
              "\t<tr><td>Schneeberger, Hannah</td><td>Other - Reckless driving                          </td><td>Aug. 19, 2019 </td><td>Written reprimand (Nov. 1, 2019)                                                                                                          </td><td>Rochester City PD   </td><td>Rochester</td><td>Monroe County</td></tr>\n",
              "\t<tr><td>Lindauer Jr., Jeremy</td><td>Other - Failure to perform duty                   </td><td>July 24, 2019 </td><td>In conjunction with a second incident, the officer was suspended without pay for five days. (May 28, 2020)                                </td><td>Rochester City PD   </td><td>Rochester</td><td>Monroe County</td></tr>\n",
              "\t<tr><td>Allen, Patrice R    </td><td>Discourtesy - Behavior unbecoming a police officer</td><td>July 24, 2019 </td><td>The officer pled guilty and received suspension without pay for 10 duty days between January 20, 2020 and February 2, 2020. (Jan. 9, 2020)</td><td>Rochester City PD   </td><td>Rochester</td><td>Monroe County</td></tr>\n",
              "\t<tr><td>Lindauer Jr., Jeremy</td><td>Other - Reckless driving                          </td><td>June 27, 2019 </td><td>The officer received a three-day suspension without pay. (March 5, 2020)                                                                  </td><td>Rochester City PD   </td><td>Rochester</td><td>Monroe County</td></tr>\n",
              "\t<tr><td>Mulholland, Jessica </td><td>Other - Reckless driving                          </td><td>March 30, 2019</td><td>The officer was suspended for one day without pay. (July 17, 2019)                                                                        </td><td>Rochester City PD   </td><td>Rochester</td><td>Monroe County</td></tr>\n",
              "\t<tr><td>Glodowski, Brandon  </td><td>Other - Reckless driving                          </td><td>Feb. 3, 2019  </td><td>Written reprimand (July 17, 2019)                                                                                                         </td><td>Rochester City PD   </td><td>Rochester</td><td>Monroe County</td></tr>\n",
              "\t<tr><td>Bower, Edwin        </td><td>Other - Failure to perform duty                   </td><td>Jan. 30, 2019 </td><td>Lost one day of vacation (Feb. 22, 2019)                                                                                                  </td><td>Gates Town PD       </td><td>Gates    </td><td>Monroe County</td></tr>\n",
              "\t<tr><td>Leonard, Rebecca    </td><td>Other - Failure to perform duty                   </td><td>Jan. 30, 2019 </td><td>Lost four days of vacation (Feb. 20, 2019)                                                                                                </td><td>Gates Town PD       </td><td>Gates    </td><td>Monroe County</td></tr>\n",
              "\t<tr><td>Drake, Matthew      </td><td>Other - Behavior unbecoming a police officer      </td><td>Jan. 27, 2019 </td><td>The officer was suspended without pay for seven duty days. (July 16, 2020)                                                                </td><td>Rochester City PD   </td><td>Rochester</td><td>Monroe County</td></tr>\n",
              "\t<tr><td>Timmons, Mahogany   </td><td>Other - Reckless driving                          </td><td>Jan. 11, 2019 </td><td>Written reprimand (June 7, 2019)                                                                                                          </td><td>Rochester City PD   </td><td>Rochester</td><td>Monroe County</td></tr>\n",
              "\t<tr><td>Callin, Ryan        </td><td>Other - Reckless driving                          </td><td>Jan. 5, 2019  </td><td>Memorandum of record (Jan. 12, 2019)                                                                                                      </td><td>Fairport Village PD </td><td>Fairport </td><td>Monroe County</td></tr>\n",
              "</tbody>\n",
              "</table>\n"
            ],
            "text/markdown": "\nA tibble: 25 × 7\n\n| Officer(s) &lt;chr&gt; | Incident &lt;chr&gt; | Incident Date &lt;chr&gt; | Final Outcome (Date Resolved) &lt;chr&gt; | Employer &lt;chr&gt; | City &lt;chr&gt; | County &lt;chr&gt; |\n|---|---|---|---|---|---|---|\n| Bradstreet, Adam     | Other - Reckless driving                           | Aug. 17, 2020  | Written reprimand (Oct. 23, 2020)                                                                                                          | Rochester City PD    | Rochester | Monroe County |\n| Schneeberger, Hannah | Other - Reckless driving                           | April 27, 2020 | The officer received a one-day suspension without pay. (Aug. 6, 2020)                                                                      | Rochester City PD    | Rochester | Monroe County |\n| Tantalo, Mary        | Other - Reckless driving                           | March 15, 2020 | The officer received a one-day suspension without pay. (July 7, 2020)                                                                      | Rochester City PD    | Rochester | Monroe County |\n| Iacuzzi, Christopher | Other - Reckless driving                           | Feb. 6, 2020   | Written reprimand (June 29, 2020)                                                                                                          | Rochester City PD    | Rochester | Monroe County |\n| Coughlin, James      | Discourtesy - Insubordination                      | Jan. 13, 2020  | Other (Feb. 6, 2020)                                                                                                                       | Gates Town PD        | Gates     | Monroe County |\n| Callin, Ryan         | Other - Failure to perform duty                    | Dec. 25, 2019  | Memorandum of record (Jan. 7, 2020)                                                                                                        | Fairport Village PD  | Fairport  | Monroe County |\n| Woicyk, John         | Discourtesy - Unprofessional                       | Dec. 21, 2019  | The officer received a five-day suspension without pay. (Feb. 6, 2020)                                                                     | Rochester City PD    | Rochester | Monroe County |\n| Mortillaro, Michael  | Other - Reckless driving                           | Dec. 7, 2019   | The officer was suspended without pay for one day. (April 22, 2020)                                                                        | Rochester City PD    | Rochester | Monroe County |\n| Mortillaro, Michael  | Force - Behavior unbecoming a police officer       | Dec. 3, 2019   | The officer was suspended without pay for 15 days. (May 28, 2020)                                                                          | Rochester City PD    | Rochester | Monroe County |\n| Blodgett, Evan       | Other - Failure to perform duty                    | Nov. 9, 2019   | Indefinite suspension (Nov. 14, 2019)                                                                                                      | Brockport Village PD | Brockport | Monroe County |\n| Lindauer Jr., Jeremy | Other - Failure to perform duty                    | Oct. 9, 2019   | In conjunction with a first incident, the officer was suspended without pay for five days. (May 28, 2020)                                  | Rochester City PD    | Rochester | Monroe County |\n| Tantalo, Mary        | Other - Reckless driving                           | Oct. 3, 2019   | The assessed penalty is a letter of reprimand if the officer pleads guilty.                                                                | Rochester City PD    | Rochester | Monroe County |\n| Celiberti, Daniel    | Other - Reckless driving                           | Sept. 28, 2019 | Written reprimand (Feb. 7, 2020)                                                                                                           | Rochester City PD    | Rochester | Monroe County |\n| Edwards, Connor      | Other - Reckless driving                           | Sept. 5, 2019  | Written reprimand (Jan. 23, 2020)                                                                                                          | Rochester City PD    | Rochester | Monroe County |\n| Schneeberger, Hannah | Other - Reckless driving                           | Aug. 19, 2019  | Written reprimand (Nov. 1, 2019)                                                                                                           | Rochester City PD    | Rochester | Monroe County |\n| Lindauer Jr., Jeremy | Other - Failure to perform duty                    | July 24, 2019  | In conjunction with a second incident, the officer was suspended without pay for five days. (May 28, 2020)                                 | Rochester City PD    | Rochester | Monroe County |\n| Allen, Patrice R     | Discourtesy - Behavior unbecoming a police officer | July 24, 2019  | The officer pled guilty and received suspension without pay for 10 duty days between January 20, 2020 and February 2, 2020. (Jan. 9, 2020) | Rochester City PD    | Rochester | Monroe County |\n| Lindauer Jr., Jeremy | Other - Reckless driving                           | June 27, 2019  | The officer received a three-day suspension without pay. (March 5, 2020)                                                                   | Rochester City PD    | Rochester | Monroe County |\n| Mulholland, Jessica  | Other - Reckless driving                           | March 30, 2019 | The officer was suspended for one day without pay. (July 17, 2019)                                                                         | Rochester City PD    | Rochester | Monroe County |\n| Glodowski, Brandon   | Other - Reckless driving                           | Feb. 3, 2019   | Written reprimand (July 17, 2019)                                                                                                          | Rochester City PD    | Rochester | Monroe County |\n| Bower, Edwin         | Other - Failure to perform duty                    | Jan. 30, 2019  | Lost one day of vacation (Feb. 22, 2019)                                                                                                   | Gates Town PD        | Gates     | Monroe County |\n| Leonard, Rebecca     | Other - Failure to perform duty                    | Jan. 30, 2019  | Lost four days of vacation (Feb. 20, 2019)                                                                                                 | Gates Town PD        | Gates     | Monroe County |\n| Drake, Matthew       | Other - Behavior unbecoming a police officer       | Jan. 27, 2019  | The officer was suspended without pay for seven duty days. (July 16, 2020)                                                                 | Rochester City PD    | Rochester | Monroe County |\n| Timmons, Mahogany    | Other - Reckless driving                           | Jan. 11, 2019  | Written reprimand (June 7, 2019)                                                                                                           | Rochester City PD    | Rochester | Monroe County |\n| Callin, Ryan         | Other - Reckless driving                           | Jan. 5, 2019   | Memorandum of record (Jan. 12, 2019)                                                                                                       | Fairport Village PD  | Fairport  | Monroe County |\n\n",
            "text/latex": "A tibble: 25 × 7\n\\begin{tabular}{lllllll}\n Officer(s) & Incident & Incident Date & Final Outcome (Date Resolved) & Employer & City & County\\\\\n <chr> & <chr> & <chr> & <chr> & <chr> & <chr> & <chr>\\\\\n\\hline\n\t Bradstreet, Adam     & Other - Reckless driving                           & Aug. 17, 2020  & Written reprimand (Oct. 23, 2020)                                                                                                          & Rochester City PD    & Rochester & Monroe County\\\\\n\t Schneeberger, Hannah & Other - Reckless driving                           & April 27, 2020 & The officer received a one-day suspension without pay. (Aug. 6, 2020)                                                                      & Rochester City PD    & Rochester & Monroe County\\\\\n\t Tantalo, Mary        & Other - Reckless driving                           & March 15, 2020 & The officer received a one-day suspension without pay. (July 7, 2020)                                                                      & Rochester City PD    & Rochester & Monroe County\\\\\n\t Iacuzzi, Christopher & Other - Reckless driving                           & Feb. 6, 2020   & Written reprimand (June 29, 2020)                                                                                                          & Rochester City PD    & Rochester & Monroe County\\\\\n\t Coughlin, James      & Discourtesy - Insubordination                      & Jan. 13, 2020  & Other (Feb. 6, 2020)                                                                                                                       & Gates Town PD        & Gates     & Monroe County\\\\\n\t Callin, Ryan         & Other - Failure to perform duty                    & Dec. 25, 2019  & Memorandum of record (Jan. 7, 2020)                                                                                                        & Fairport Village PD  & Fairport  & Monroe County\\\\\n\t Woicyk, John         & Discourtesy - Unprofessional                       & Dec. 21, 2019  & The officer received a five-day suspension without pay. (Feb. 6, 2020)                                                                     & Rochester City PD    & Rochester & Monroe County\\\\\n\t Mortillaro, Michael  & Other - Reckless driving                           & Dec. 7, 2019   & The officer was suspended without pay for one day. (April 22, 2020)                                                                        & Rochester City PD    & Rochester & Monroe County\\\\\n\t Mortillaro, Michael  & Force - Behavior unbecoming a police officer       & Dec. 3, 2019   & The officer was suspended without pay for 15 days. (May 28, 2020)                                                                          & Rochester City PD    & Rochester & Monroe County\\\\\n\t Blodgett, Evan       & Other - Failure to perform duty                    & Nov. 9, 2019   & Indefinite suspension (Nov. 14, 2019)                                                                                                      & Brockport Village PD & Brockport & Monroe County\\\\\n\t Lindauer Jr., Jeremy & Other - Failure to perform duty                    & Oct. 9, 2019   & In conjunction with a first incident, the officer was suspended without pay for five days. (May 28, 2020)                                  & Rochester City PD    & Rochester & Monroe County\\\\\n\t Tantalo, Mary        & Other - Reckless driving                           & Oct. 3, 2019   & The assessed penalty is a letter of reprimand if the officer pleads guilty.                                                                & Rochester City PD    & Rochester & Monroe County\\\\\n\t Celiberti, Daniel    & Other - Reckless driving                           & Sept. 28, 2019 & Written reprimand (Feb. 7, 2020)                                                                                                           & Rochester City PD    & Rochester & Monroe County\\\\\n\t Edwards, Connor      & Other - Reckless driving                           & Sept. 5, 2019  & Written reprimand (Jan. 23, 2020)                                                                                                          & Rochester City PD    & Rochester & Monroe County\\\\\n\t Schneeberger, Hannah & Other - Reckless driving                           & Aug. 19, 2019  & Written reprimand (Nov. 1, 2019)                                                                                                           & Rochester City PD    & Rochester & Monroe County\\\\\n\t Lindauer Jr., Jeremy & Other - Failure to perform duty                    & July 24, 2019  & In conjunction with a second incident, the officer was suspended without pay for five days. (May 28, 2020)                                 & Rochester City PD    & Rochester & Monroe County\\\\\n\t Allen, Patrice R     & Discourtesy - Behavior unbecoming a police officer & July 24, 2019  & The officer pled guilty and received suspension without pay for 10 duty days between January 20, 2020 and February 2, 2020. (Jan. 9, 2020) & Rochester City PD    & Rochester & Monroe County\\\\\n\t Lindauer Jr., Jeremy & Other - Reckless driving                           & June 27, 2019  & The officer received a three-day suspension without pay. (March 5, 2020)                                                                   & Rochester City PD    & Rochester & Monroe County\\\\\n\t Mulholland, Jessica  & Other - Reckless driving                           & March 30, 2019 & The officer was suspended for one day without pay. (July 17, 2019)                                                                         & Rochester City PD    & Rochester & Monroe County\\\\\n\t Glodowski, Brandon   & Other - Reckless driving                           & Feb. 3, 2019   & Written reprimand (July 17, 2019)                                                                                                          & Rochester City PD    & Rochester & Monroe County\\\\\n\t Bower, Edwin         & Other - Failure to perform duty                    & Jan. 30, 2019  & Lost one day of vacation (Feb. 22, 2019)                                                                                                   & Gates Town PD        & Gates     & Monroe County\\\\\n\t Leonard, Rebecca     & Other - Failure to perform duty                    & Jan. 30, 2019  & Lost four days of vacation (Feb. 20, 2019)                                                                                                 & Gates Town PD        & Gates     & Monroe County\\\\\n\t Drake, Matthew       & Other - Behavior unbecoming a police officer       & Jan. 27, 2019  & The officer was suspended without pay for seven duty days. (July 16, 2020)                                                                 & Rochester City PD    & Rochester & Monroe County\\\\\n\t Timmons, Mahogany    & Other - Reckless driving                           & Jan. 11, 2019  & Written reprimand (June 7, 2019)                                                                                                           & Rochester City PD    & Rochester & Monroe County\\\\\n\t Callin, Ryan         & Other - Reckless driving                           & Jan. 5, 2019   & Memorandum of record (Jan. 12, 2019)                                                                                                       & Fairport Village PD  & Fairport  & Monroe County\\\\\n\\end{tabular}\n",
            "text/plain": [
              "   Officer(s)           Incident                                          \n",
              "1  Bradstreet, Adam     Other - Reckless driving                          \n",
              "2  Schneeberger, Hannah Other - Reckless driving                          \n",
              "3  Tantalo, Mary        Other - Reckless driving                          \n",
              "4  Iacuzzi, Christopher Other - Reckless driving                          \n",
              "5  Coughlin, James      Discourtesy - Insubordination                     \n",
              "6  Callin, Ryan         Other - Failure to perform duty                   \n",
              "7  Woicyk, John         Discourtesy - Unprofessional                      \n",
              "8  Mortillaro, Michael  Other - Reckless driving                          \n",
              "9  Mortillaro, Michael  Force - Behavior unbecoming a police officer      \n",
              "10 Blodgett, Evan       Other - Failure to perform duty                   \n",
              "11 Lindauer Jr., Jeremy Other - Failure to perform duty                   \n",
              "12 Tantalo, Mary        Other - Reckless driving                          \n",
              "13 Celiberti, Daniel    Other - Reckless driving                          \n",
              "14 Edwards, Connor      Other - Reckless driving                          \n",
              "15 Schneeberger, Hannah Other - Reckless driving                          \n",
              "16 Lindauer Jr., Jeremy Other - Failure to perform duty                   \n",
              "17 Allen, Patrice R     Discourtesy - Behavior unbecoming a police officer\n",
              "18 Lindauer Jr., Jeremy Other - Reckless driving                          \n",
              "19 Mulholland, Jessica  Other - Reckless driving                          \n",
              "20 Glodowski, Brandon   Other - Reckless driving                          \n",
              "21 Bower, Edwin         Other - Failure to perform duty                   \n",
              "22 Leonard, Rebecca     Other - Failure to perform duty                   \n",
              "23 Drake, Matthew       Other - Behavior unbecoming a police officer      \n",
              "24 Timmons, Mahogany    Other - Reckless driving                          \n",
              "25 Callin, Ryan         Other - Reckless driving                          \n",
              "   Incident Date \n",
              "1  Aug. 17, 2020 \n",
              "2  April 27, 2020\n",
              "3  March 15, 2020\n",
              "4  Feb. 6, 2020  \n",
              "5  Jan. 13, 2020 \n",
              "6  Dec. 25, 2019 \n",
              "7  Dec. 21, 2019 \n",
              "8  Dec. 7, 2019  \n",
              "9  Dec. 3, 2019  \n",
              "10 Nov. 9, 2019  \n",
              "11 Oct. 9, 2019  \n",
              "12 Oct. 3, 2019  \n",
              "13 Sept. 28, 2019\n",
              "14 Sept. 5, 2019 \n",
              "15 Aug. 19, 2019 \n",
              "16 July 24, 2019 \n",
              "17 July 24, 2019 \n",
              "18 June 27, 2019 \n",
              "19 March 30, 2019\n",
              "20 Feb. 3, 2019  \n",
              "21 Jan. 30, 2019 \n",
              "22 Jan. 30, 2019 \n",
              "23 Jan. 27, 2019 \n",
              "24 Jan. 11, 2019 \n",
              "25 Jan. 5, 2019  \n",
              "   Final Outcome (Date Resolved)                                                                                                             \n",
              "1  Written reprimand (Oct. 23, 2020)                                                                                                         \n",
              "2  The officer received a one-day suspension without pay. (Aug. 6, 2020)                                                                     \n",
              "3  The officer received a one-day suspension without pay. (July 7, 2020)                                                                     \n",
              "4  Written reprimand (June 29, 2020)                                                                                                         \n",
              "5  Other (Feb. 6, 2020)                                                                                                                      \n",
              "6  Memorandum of record (Jan. 7, 2020)                                                                                                       \n",
              "7  The officer received a five-day suspension without pay. (Feb. 6, 2020)                                                                    \n",
              "8  The officer was suspended without pay for one day. (April 22, 2020)                                                                       \n",
              "9  The officer was suspended without pay for 15 days. (May 28, 2020)                                                                         \n",
              "10 Indefinite suspension (Nov. 14, 2019)                                                                                                     \n",
              "11 In conjunction with a first incident, the officer was suspended without pay for five days. (May 28, 2020)                                 \n",
              "12 The assessed penalty is a letter of reprimand if the officer pleads guilty.                                                               \n",
              "13 Written reprimand (Feb. 7, 2020)                                                                                                          \n",
              "14 Written reprimand (Jan. 23, 2020)                                                                                                         \n",
              "15 Written reprimand (Nov. 1, 2019)                                                                                                          \n",
              "16 In conjunction with a second incident, the officer was suspended without pay for five days. (May 28, 2020)                                \n",
              "17 The officer pled guilty and received suspension without pay for 10 duty days between January 20, 2020 and February 2, 2020. (Jan. 9, 2020)\n",
              "18 The officer received a three-day suspension without pay. (March 5, 2020)                                                                  \n",
              "19 The officer was suspended for one day without pay. (July 17, 2019)                                                                        \n",
              "20 Written reprimand (July 17, 2019)                                                                                                         \n",
              "21 Lost one day of vacation (Feb. 22, 2019)                                                                                                  \n",
              "22 Lost four days of vacation (Feb. 20, 2019)                                                                                                \n",
              "23 The officer was suspended without pay for seven duty days. (July 16, 2020)                                                                \n",
              "24 Written reprimand (June 7, 2019)                                                                                                          \n",
              "25 Memorandum of record (Jan. 12, 2019)                                                                                                      \n",
              "   Employer             City      County       \n",
              "1  Rochester City PD    Rochester Monroe County\n",
              "2  Rochester City PD    Rochester Monroe County\n",
              "3  Rochester City PD    Rochester Monroe County\n",
              "4  Rochester City PD    Rochester Monroe County\n",
              "5  Gates Town PD        Gates     Monroe County\n",
              "6  Fairport Village PD  Fairport  Monroe County\n",
              "7  Rochester City PD    Rochester Monroe County\n",
              "8  Rochester City PD    Rochester Monroe County\n",
              "9  Rochester City PD    Rochester Monroe County\n",
              "10 Brockport Village PD Brockport Monroe County\n",
              "11 Rochester City PD    Rochester Monroe County\n",
              "12 Rochester City PD    Rochester Monroe County\n",
              "13 Rochester City PD    Rochester Monroe County\n",
              "14 Rochester City PD    Rochester Monroe County\n",
              "15 Rochester City PD    Rochester Monroe County\n",
              "16 Rochester City PD    Rochester Monroe County\n",
              "17 Rochester City PD    Rochester Monroe County\n",
              "18 Rochester City PD    Rochester Monroe County\n",
              "19 Rochester City PD    Rochester Monroe County\n",
              "20 Rochester City PD    Rochester Monroe County\n",
              "21 Gates Town PD        Gates     Monroe County\n",
              "22 Gates Town PD        Gates     Monroe County\n",
              "23 Rochester City PD    Rochester Monroe County\n",
              "24 Rochester City PD    Rochester Monroe County\n",
              "25 Fairport Village PD  Fairport  Monroe County"
            ]
          },
          "metadata": {}
        }
      ]
    },
    {
      "cell_type": "markdown",
      "source": [
        "All web-pages are structured differently, so it isn't always apparent which elements contain what information across sites. As you scrape more sites, you will become familar with the various HTML elements, but we also recommend installing the [SelectorGadget](https://selectorgadget.com/) extension in your web browser, which can help quickly identify the elements in a web-page."
      ],
      "metadata": {
        "id": "OeSGESqwGF3N"
      }
    },
    {
      "cell_type": "markdown",
      "source": [
        "##**Web-scraping multiple web-pages**"
      ],
      "metadata": {
        "id": "Oux_Vdvk7HS2"
      }
    },
    {
      "cell_type": "markdown",
      "source": [
        "To scrape multiple web-pages at once, we will install the *purrr* package, which is also a dependent package of the more commonly used devtools and tidyverse. "
      ],
      "metadata": {
        "id": "fzWaCxez7hfE"
      }
    },
    {
      "cell_type": "code",
      "source": [
        "install.packages(\"purrr\")\n",
        "library(purrr)"
      ],
      "metadata": {
        "colab": {
          "base_uri": "https://localhost:8080/"
        },
        "id": "ShYQt0849f3X",
        "outputId": "54fa6d45-e580-43d8-ee93-ce0bcd8a769b"
      },
      "execution_count": 21,
      "outputs": [
        {
          "output_type": "stream",
          "name": "stderr",
          "text": [
            "Installing package into ‘/usr/local/lib/R/site-library’\n",
            "(as ‘lib’ is unspecified)\n",
            "\n"
          ]
        }
      ]
    },
    {
      "cell_type": "markdown",
      "source": [
        "We will first create a list of the web-pages we want to scrape using the *c()* function. Let's say we want to pull the headlines news from a few sites. We first create the list of sites.\n",
        "\n",
        "By briefly inspecting the site, we see that the headlines are under the h3 elements across the sites. Using the *map()* function, we can apply the same *html_elements()* and *html_text()* functions that we used before and they will be applied to the *h3* elements across both sites."
      ],
      "metadata": {
        "id": "b2XTtRTd98dN"
      }
    },
    {
      "cell_type": "code",
      "source": [
        "url <- c(\"https://www.bbc.com/\", \"https://www.npr.org/\")\n",
        "page <-map(url, ~read_html(.x) %>% html_elements(\"h3\") %>% html_text2())\n",
        "page\n"
      ],
      "metadata": {
        "id": "1qtsplOv7hqL"
      },
      "execution_count": null,
      "outputs": []
    },
    {
      "cell_type": "markdown",
      "source": [
        "If we want to display our headlines a bit neater, we can separate each headline onto its own line."
      ],
      "metadata": {
        "id": "3h_07Tx_EEoa"
      }
    },
    {
      "cell_type": "code",
      "source": [
        "print(page, sep=\"\\n\")"
      ],
      "metadata": {
        "id": "wCqGs8HZEIyE"
      },
      "execution_count": null,
      "outputs": []
    }
  ]
}